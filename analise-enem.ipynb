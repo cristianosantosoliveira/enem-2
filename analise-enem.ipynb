{
 "cells": [
  {
   "cell_type": "code",
   "execution_count": 2,
   "metadata": {},
   "outputs": [],
   "source": [
    "import pandas as pd\n",
    "import numpy as np"
   ]
  },
  {
   "cell_type": "code",
   "execution_count": 3,
   "metadata": {},
   "outputs": [],
   "source": [
    "def load_train_test(train_path, test_path):\n",
    "    train = pd.read_csv(train_path)\n",
    "    test = pd.read_csv(test_path)\n",
    "    train_features = np.append(test.columns, 'NU_NOTA_MT')\n",
    "    train = train.loc[:, train_features]\n",
    "    return train, test"
   ]
  },
  {
   "cell_type": "code",
   "execution_count": 4,
   "metadata": {},
   "outputs": [],
   "source": [
    "train, test = load_train_test('train.csv', 'test.csv')"
   ]
  },
  {
   "cell_type": "markdown",
   "metadata": {},
   "source": [
    "###  Analisando dados faltantes"
   ]
  },
  {
   "cell_type": "markdown",
   "metadata": {},
   "source": [
    "Total relativo de dados faltantes em bases de treino e teste. "
   ]
  },
  {
   "cell_type": "code",
   "execution_count": 5,
   "metadata": {},
   "outputs": [],
   "source": [
    "def missing(dataframe, name='missing'):\n",
    "    missing = dataframe.isnull().mean().sort_values(ascending=False).to_frame(name)\n",
    "    return missing[missing.iloc[:, 0] > 0]"
   ]
  },
  {
   "cell_type": "code",
   "execution_count": 6,
   "metadata": {},
   "outputs": [
    {
     "data": {
      "text/html": [
       "<div>\n",
       "<style scoped>\n",
       "    .dataframe tbody tr th:only-of-type {\n",
       "        vertical-align: middle;\n",
       "    }\n",
       "\n",
       "    .dataframe tbody tr th {\n",
       "        vertical-align: top;\n",
       "    }\n",
       "\n",
       "    .dataframe thead th {\n",
       "        text-align: right;\n",
       "    }\n",
       "</style>\n",
       "<table border=\"1\" class=\"dataframe\">\n",
       "  <thead>\n",
       "    <tr style=\"text-align: right;\">\n",
       "      <th></th>\n",
       "      <th>test_missing</th>\n",
       "      <th>train_missing</th>\n",
       "    </tr>\n",
       "  </thead>\n",
       "  <tbody>\n",
       "    <tr>\n",
       "      <th>TP_ENSINO</th>\n",
       "      <td>0.676573</td>\n",
       "      <td>0.688128</td>\n",
       "    </tr>\n",
       "    <tr>\n",
       "      <th>TP_DEPENDENCIA_ADM_ESC</th>\n",
       "      <td>0.676573</td>\n",
       "      <td>0.688128</td>\n",
       "    </tr>\n",
       "    <tr>\n",
       "      <th>Q027</th>\n",
       "      <td>0.543706</td>\n",
       "      <td>0.536999</td>\n",
       "    </tr>\n",
       "    <tr>\n",
       "      <th>TP_STATUS_REDACAO</th>\n",
       "      <td>0.262019</td>\n",
       "      <td>0.261981</td>\n",
       "    </tr>\n",
       "    <tr>\n",
       "      <th>NU_NOTA_COMP4</th>\n",
       "      <td>0.262019</td>\n",
       "      <td>0.261981</td>\n",
       "    </tr>\n",
       "    <tr>\n",
       "      <th>NU_NOTA_LC</th>\n",
       "      <td>0.262019</td>\n",
       "      <td>0.261981</td>\n",
       "    </tr>\n",
       "    <tr>\n",
       "      <th>NU_NOTA_COMP1</th>\n",
       "      <td>0.262019</td>\n",
       "      <td>0.261981</td>\n",
       "    </tr>\n",
       "    <tr>\n",
       "      <th>NU_NOTA_COMP2</th>\n",
       "      <td>0.262019</td>\n",
       "      <td>0.261981</td>\n",
       "    </tr>\n",
       "    <tr>\n",
       "      <th>NU_NOTA_COMP3</th>\n",
       "      <td>0.262019</td>\n",
       "      <td>0.261981</td>\n",
       "    </tr>\n",
       "    <tr>\n",
       "      <th>NU_NOTA_COMP5</th>\n",
       "      <td>0.262019</td>\n",
       "      <td>0.261981</td>\n",
       "    </tr>\n",
       "    <tr>\n",
       "      <th>NU_NOTA_REDACAO</th>\n",
       "      <td>0.262019</td>\n",
       "      <td>0.261981</td>\n",
       "    </tr>\n",
       "    <tr>\n",
       "      <th>NU_NOTA_CH</th>\n",
       "      <td>0.247815</td>\n",
       "      <td>0.246832</td>\n",
       "    </tr>\n",
       "    <tr>\n",
       "      <th>NU_NOTA_CN</th>\n",
       "      <td>0.247815</td>\n",
       "      <td>0.246832</td>\n",
       "    </tr>\n",
       "    <tr>\n",
       "      <th>NU_NOTA_MT</th>\n",
       "      <td>NaN</td>\n",
       "      <td>0.261981</td>\n",
       "    </tr>\n",
       "  </tbody>\n",
       "</table>\n",
       "</div>"
      ],
      "text/plain": [
       "                        test_missing  train_missing\n",
       "TP_ENSINO                   0.676573       0.688128\n",
       "TP_DEPENDENCIA_ADM_ESC      0.676573       0.688128\n",
       "Q027                        0.543706       0.536999\n",
       "TP_STATUS_REDACAO           0.262019       0.261981\n",
       "NU_NOTA_COMP4               0.262019       0.261981\n",
       "NU_NOTA_LC                  0.262019       0.261981\n",
       "NU_NOTA_COMP1               0.262019       0.261981\n",
       "NU_NOTA_COMP2               0.262019       0.261981\n",
       "NU_NOTA_COMP3               0.262019       0.261981\n",
       "NU_NOTA_COMP5               0.262019       0.261981\n",
       "NU_NOTA_REDACAO             0.262019       0.261981\n",
       "NU_NOTA_CH                  0.247815       0.246832\n",
       "NU_NOTA_CN                  0.247815       0.246832\n",
       "NU_NOTA_MT                       NaN       0.261981"
      ]
     },
     "execution_count": 6,
     "metadata": {},
     "output_type": "execute_result"
    }
   ],
   "source": [
    "pd.concat([missing(test, 'test_missing'), missing(train, 'train_missing')], axis=1)"
   ]
  },
  {
   "cell_type": "markdown",
   "metadata": {},
   "source": [
    "#### Features de notas\n",
    "Das 14 features com dados faltantes 11 são relacionadas às notas de pessoas que faltaram ou foram eliminadas."
   ]
  },
  {
   "cell_type": "markdown",
   "metadata": {},
   "source": [
    "- Se o aluno faltou ou foi eliminado em alguma prova, de acordo com as variáveis de presença, não há nota para o participante naquela prova. \n",
    "    - Neste caso substituir notas por zero."
   ]
  },
  {
   "cell_type": "markdown",
   "metadata": {},
   "source": [
    "As features `TP_PRESENCA_CN`,` TP_PRESENCA_CH`, `TP_PRESENCA_LC` podem assumir apenas 0, 1 ou 2 de acordo com o dicionário de dados. Verificando se há algum valor nulo ou fora do intervalo"
   ]
  },
  {
   "cell_type": "code",
   "execution_count": 7,
   "metadata": {},
   "outputs": [
    {
     "data": {
      "text/html": [
       "<div>\n",
       "<style scoped>\n",
       "    .dataframe tbody tr th:only-of-type {\n",
       "        vertical-align: middle;\n",
       "    }\n",
       "\n",
       "    .dataframe tbody tr th {\n",
       "        vertical-align: top;\n",
       "    }\n",
       "\n",
       "    .dataframe thead th {\n",
       "        text-align: right;\n",
       "    }\n",
       "</style>\n",
       "<table border=\"1\" class=\"dataframe\">\n",
       "  <thead>\n",
       "    <tr style=\"text-align: right;\">\n",
       "      <th></th>\n",
       "      <th>total NaN</th>\n",
       "      <th>unique</th>\n",
       "    </tr>\n",
       "  </thead>\n",
       "  <tbody>\n",
       "    <tr>\n",
       "      <th>TP_PRESENCA_CN</th>\n",
       "      <td>0</td>\n",
       "      <td>[1, 0, 2]</td>\n",
       "    </tr>\n",
       "    <tr>\n",
       "      <th>TP_PRESENCA_CH</th>\n",
       "      <td>0</td>\n",
       "      <td>[1, 0, 2]</td>\n",
       "    </tr>\n",
       "    <tr>\n",
       "      <th>TP_PRESENCA_LC</th>\n",
       "      <td>0</td>\n",
       "      <td>[1, 0, 2]</td>\n",
       "    </tr>\n",
       "  </tbody>\n",
       "</table>\n",
       "</div>"
      ],
      "text/plain": [
       "                total NaN     unique\n",
       "TP_PRESENCA_CN          0  [1, 0, 2]\n",
       "TP_PRESENCA_CH          0  [1, 0, 2]\n",
       "TP_PRESENCA_LC          0  [1, 0, 2]"
      ]
     },
     "execution_count": 7,
     "metadata": {},
     "output_type": "execute_result"
    }
   ],
   "source": [
    "attendance = train[['TP_PRESENCA_CN','TP_PRESENCA_CH','TP_PRESENCA_LC']].copy()\n",
    "pd.DataFrame(\n",
    "    data = {\n",
    "    'total NaN': attendance.isnull().sum().values,\n",
    "    'unique': [attendance[it].unique() for it in attendance.columns]\n",
    "    },\n",
    "    index=attendance.columns\n",
    ")"
   ]
  },
  {
   "cell_type": "markdown",
   "metadata": {},
   "source": [
    "#### Q1\n",
    "Todas notas são nulas quando as features de presença (`TP_PRESENCA_CN`,` TP_PRESENCA_CH`, `TP_PRESENCA_LC`) são diferentes de 1?\n"
   ]
  },
  {
   "cell_type": "code",
   "execution_count": 8,
   "metadata": {},
   "outputs": [
    {
     "data": {
      "text/plain": [
       "(True, True, True)"
      ]
     },
     "execution_count": 8,
     "metadata": {},
     "output_type": "execute_result"
    }
   ],
   "source": [
    "(\n",
    "    train.loc[train['TP_PRESENCA_CN'] != 1, 'NU_NOTA_CN'].isnull().all(),\n",
    "    train.loc[train['TP_PRESENCA_CH'] != 1, 'NU_NOTA_CH'].isnull().all(),\n",
    "    train.loc[\n",
    "        train['TP_PRESENCA_LC'] != 1, \n",
    "        ['NU_NOTA_LC','NU_NOTA_COMP1','NU_NOTA_COMP2','NU_NOTA_COMP3','NU_NOTA_COMP4','NU_NOTA_COMP5','NU_NOTA_REDACAO','TP_STATUS_REDACAO','NU_NOTA_MT']\n",
    "    ].isnull().all().all()\n",
    ")"
   ]
  },
  {
   "cell_type": "markdown",
   "metadata": {},
   "source": [
    "<hr>"
   ]
  },
  {
   "cell_type": "markdown",
   "metadata": {},
   "source": [
    "- `TP_STATUS_REDACAO` possui todos valores nulos quando `TP_PRESENCA_LC` é diferente de 1, ou seja, quando o aluno faltou ou foi eliminado na prova de Linguagens.\n",
    "    - Se faltou então `TP_STATUS_REDACAO` deve ser 4 (ficou em branco)\n",
    "    - Se foi eliminado `TP_STATUS_REDACAO` deve ser 2 (anulada)\n"
   ]
  },
  {
   "cell_type": "markdown",
   "metadata": {},
   "source": [
    "\n",
    "- `TP_DEPENDENCIA_ADM_ESC` e `TP_ENSINO`: \n",
    "    - conclusão: têm relação com a feature `TP_ESCOLA` que quando é `1` e `4` (não informado e exterior) resulta em missing data em ambas. \n",
    "        - 1. Apaga feature;\n",
    "        - 2. ou Imputa. (moda, criar nova categoria)"
   ]
  },
  {
   "cell_type": "code",
   "execution_count": 9,
   "metadata": {
    "scrolled": false
   },
   "outputs": [
    {
     "name": "stdout",
     "output_type": "stream",
     "text": [
      "Valores nulos por TP_ESCOLA\n"
     ]
    },
    {
     "data": {
      "text/html": [
       "<div>\n",
       "<style scoped>\n",
       "    .dataframe tbody tr th:only-of-type {\n",
       "        vertical-align: middle;\n",
       "    }\n",
       "\n",
       "    .dataframe tbody tr th {\n",
       "        vertical-align: top;\n",
       "    }\n",
       "\n",
       "    .dataframe thead th {\n",
       "        text-align: right;\n",
       "    }\n",
       "</style>\n",
       "<table border=\"1\" class=\"dataframe\">\n",
       "  <thead>\n",
       "    <tr style=\"text-align: right;\">\n",
       "      <th></th>\n",
       "      <th>TP_ENSINO</th>\n",
       "      <th>TP_DEPENDENCIA_ADM_ESC</th>\n",
       "    </tr>\n",
       "    <tr>\n",
       "      <th>TP_ESCOLA</th>\n",
       "      <th></th>\n",
       "      <th></th>\n",
       "    </tr>\n",
       "  </thead>\n",
       "  <tbody>\n",
       "    <tr>\n",
       "      <th>1</th>\n",
       "      <td>9447</td>\n",
       "      <td>9447</td>\n",
       "    </tr>\n",
       "    <tr>\n",
       "      <th>2</th>\n",
       "      <td>0</td>\n",
       "      <td>0</td>\n",
       "    </tr>\n",
       "    <tr>\n",
       "      <th>3</th>\n",
       "      <td>0</td>\n",
       "      <td>0</td>\n",
       "    </tr>\n",
       "    <tr>\n",
       "      <th>4</th>\n",
       "      <td>1</td>\n",
       "      <td>1</td>\n",
       "    </tr>\n",
       "  </tbody>\n",
       "</table>\n",
       "</div>"
      ],
      "text/plain": [
       "           TP_ENSINO  TP_DEPENDENCIA_ADM_ESC\n",
       "TP_ESCOLA                                   \n",
       "1               9447                    9447\n",
       "2                  0                       0\n",
       "3                  0                       0\n",
       "4                  1                       1"
      ]
     },
     "execution_count": 9,
     "metadata": {},
     "output_type": "execute_result"
    }
   ],
   "source": [
    "print('Valores nulos por TP_ESCOLA')\n",
    "train[['TP_ENSINO','TP_DEPENDENCIA_ADM_ESC']].isnull().groupby(train['TP_ESCOLA']).sum().astype(int)"
   ]
  },
  {
   "cell_type": "markdown",
   "metadata": {},
   "source": [
    "### Q2\n",
    "Quando `TP_ESCOLA` não é informado (1) ou é exterior (4) `TP_ENSINO` e `TP_DEPENDENCIA_ADM_ESC` são ambas nulas para todas observações?"
   ]
  },
  {
   "cell_type": "code",
   "execution_count": 10,
   "metadata": {},
   "outputs": [
    {
     "data": {
      "text/plain": [
       "True"
      ]
     },
     "execution_count": 10,
     "metadata": {},
     "output_type": "execute_result"
    }
   ],
   "source": [
    "data = train.loc[\n",
    "    (train.TP_ESCOLA == 1) | (train.TP_ESCOLA == 4), ['TP_ESCOLA','TP_ENSINO','TP_DEPENDENCIA_ADM_ESC']\n",
    "]\n",
    "(data.TP_ENSINO.isnull() & data.TP_DEPENDENCIA_ADM_ESC.isnull()).all()"
   ]
  },
  {
   "cell_type": "markdown",
   "metadata": {},
   "source": [
    "- `Q27`:\n",
    "    - valores ausentes: não informaram idade:\n",
    "        - 1. Apaga feature;\n",
    "        - 2. ou Imputa. (moda, criar nova categoria)"
   ]
  },
  {
   "cell_type": "code",
   "execution_count": 11,
   "metadata": {},
   "outputs": [
    {
     "data": {
      "image/png": "[encoded data removed]",
      "text/plain": [
       "<Figure size 432x288 with 1 Axes>"
      ]
     },
     "metadata": {
      "needs_background": "light"
     },
     "output_type": "display_data"
    }
   ],
   "source": [
    "(train.Q027.value_counts(dropna=False)/train.shape[0]*100).plot(kind='barh');\n"
   ]
  },
  {
   "cell_type": "markdown",
   "metadata": {},
   "source": [
    "## Helpers - preparando os dados\n",
    "Após análisar dicionário de dados e os dados nas células acima se faz necessário alguns ajustes nos dados."
   ]
  },
  {
   "cell_type": "code",
   "execution_count": 12,
   "metadata": {},
   "outputs": [
    {
     "data": {
      "text/plain": [
       "['NU_NOTA_CN',\n",
       " 'NU_NOTA_CH',\n",
       " 'NU_NOTA_LC',\n",
       " 'NU_NOTA_COMP1',\n",
       " 'NU_NOTA_COMP2',\n",
       " 'NU_NOTA_COMP3',\n",
       " 'NU_NOTA_COMP4',\n",
       " 'NU_NOTA_COMP5',\n",
       " 'NU_NOTA_REDACAO',\n",
       " 'NU_NOTA_MT']"
      ]
     },
     "execution_count": 12,
     "metadata": {},
     "output_type": "execute_result"
    }
   ],
   "source": [
    "to_float = [it for it in test.columns.values if 'NU_NOTA' in it]    \n",
    "to_category = [it for it in test.columns.values if 'NU_' not in it] \n",
    "to_float.append('NU_NOTA_MT')\n",
    "to_float"
   ]
  },
  {
   "cell_type": "code",
   "execution_count": 13,
   "metadata": {
    "scrolled": true
   },
   "outputs": [],
   "source": [
    "from sklearn.preprocessing import KBinsDiscretizer\n",
    "\n",
    "def impute_grades_with_0(train, test):\n",
    "    impute_grades = {\n",
    "        'TP_PRESENCA_CN': ['NU_NOTA_CN'], \n",
    "        'TP_PRESENCA_CH': ['NU_NOTA_CH'], \n",
    "        'TP_PRESENCA_LC': [\n",
    "            'NU_NOTA_LC', \n",
    "            'NU_NOTA_COMP1', \n",
    "            'NU_NOTA_COMP2', \n",
    "            'NU_NOTA_COMP3', \n",
    "            'NU_NOTA_COMP4', \n",
    "            'NU_NOTA_COMP5', \n",
    "            'NU_NOTA_REDACAO', \n",
    "            'NU_NOTA_MT'\n",
    "        ]\n",
    "    }   \n",
    "    for attendance, grades in impute_grades.items():\n",
    "        train.loc[(train[attendance] != 1), grades] = 0\n",
    "        \n",
    "    impute_grades['TP_PRESENCA_LC'].remove('NU_NOTA_MT')\n",
    "    \n",
    "    for attendance, grades in impute_grades.items():\n",
    "        test.loc[(test[attendance] != 1), grades] = 0\n",
    "        \n",
    "    # se faltou prova ficou em branco(4), se eliminado foi anulada (2)\n",
    "    train.loc[train.TP_PRESENCA_LC == 2, 'TP_STATUS_REDACAO'] = 2\n",
    "    train.loc[train.TP_PRESENCA_LC == 0, 'TP_STATUS_REDACAO'] = 4\n",
    "    test.loc[train.TP_PRESENCA_LC == 2, 'TP_STATUS_REDACAO'] = 2\n",
    "    test.loc[train.TP_PRESENCA_LC == 0, 'TP_STATUS_REDACAO'] = 4\n",
    "    \n",
    "def discretize_nu_idade(train, test):\n",
    "    discretizer = KBinsDiscretizer(n_bins=4, encode=\"ordinal\", strategy=\"quantile\")\n",
    "    discretizer.fit(train[['NU_IDADE']])\n",
    "    # discretizando o train\n",
    "    train['NU_IDADE'] = discretizer.transform(train[['NU_IDADE']]).astype(int)\n",
    "    train['NU_IDADE'] = train['NU_IDADE'].astype('category')\n",
    "    # discretizando o test\n",
    "    test['NU_IDADE'] = discretizer.transform(test[['NU_IDADE']]).astype(int)\n",
    "    test['NU_IDADE'] = test['NU_IDADE'].astype('category')\n",
    "\n",
    "def map_cod_prova_to_numeric(train, test):    \n",
    "    for it in ['CO_PROVA_CN','CO_PROVA_CH','CO_PROVA_LC','CO_PROVA_MT']:\n",
    "        cats = train[it].unique()\n",
    "        maping = dict(zip(cats, np.arange(1, cats.size+1)))\n",
    "        train[it] = train[it].map(maping).astype('category')\n",
    "        test[it] = test[it].map(maping).astype('category')\n",
    "        \n",
    "def discard_features(train, test):\n",
    "    to_discard = [\n",
    "        # já existe CO_UF_RESIDENCIA\n",
    "        'SG_UF_RESIDENCIA', \n",
    "        # só diz respeito a quem já concluiu (nem todos concluíram)\n",
    "        'TP_ANO_CONCLUIU', \n",
    "        # features com missing data: a princípio serão excluídas do modelo\n",
    "        'TP_ENSINO', \n",
    "        'TP_DEPENDENCIA_ADM_ESC',\n",
    "        'Q027',\n",
    "        # tem apenas uma classe (0)\n",
    "        'IN_CEGUEIRA'\n",
    "    ]\n",
    "    train.drop(to_discard, inplace=True, axis=1)\n",
    "    test.drop(to_discard, inplace=True, axis=1)   \n",
    "        \n",
    "def correct_dtypes(train, test):\n",
    "    size = lambda x: round(x.memory_usage().sum() / (1024*1024), 3)        \n",
    "    to_float = [it for it in test.columns.values if 'NU_NOTA' in it]    \n",
    "    to_category = [it for it in test.columns.values if 'NU_' not in it] \n",
    "    \n",
    "    size_before = (size(train), size(test))\n",
    "    \n",
    "    test[to_float] = test[to_float].astype(float)\n",
    "    to_float.append('NU_NOTA_MT')\n",
    "    train[to_float] = train[to_float].astype(float)    \n",
    "    test[to_category] = test[to_category].astype('category')\n",
    "    train[to_category] = train[to_category].astype('category')        \n",
    "    size_after = (size(train), size(test))    \n",
    "    return size_before, size_after\n",
    "\n",
    "def anova_selection(train):\n",
    "    from AnovaTest import AnovaTest as tt\n",
    "    anova_test = tt(train, train.columns).run()\n",
    "    anova_test = pd.DataFrame(\n",
    "        data=anova_test, \n",
    "        columns=['feature', 'F-score', 'P-value']\n",
    "    ).set_index(\n",
    "        'feature'\n",
    "    ).sort_values('P-value', ascending=True)\n",
    "    anova_test = anova_test[(anova_test['P-value'] < 0.001)].sort_values('F-score', ascending=False)\n",
    "    return np.append(\n",
    "        ['NU_INSCRICAO'],\n",
    "        np.append(\n",
    "            anova_test[(anova_test['P-value'] < 0.001)].sort_values('F-score', ascending=False).index.values,\n",
    "            train.select_dtypes(include=float).columns\n",
    "        )\n",
    "    )"
   ]
  },
  {
   "cell_type": "markdown",
   "metadata": {},
   "source": [
    "- Descartar algumas features\n",
    "- Imputar `NU_NOTA_MT` como 0 (aluno faltou ou foi eliminado)\n",
    "- Transformar `NU_IDADE` em 4 bins usando estratégia quantile\n",
    "- Transformar `CO_PROVA*` em numérico categórico (código mto grande)\n",
    "- Variáveis de notas serão float\n",
    "    - Todas as outras serão categóricas (economiza uso de memória)\n",
    "    - `NU_IDADE` continua por enquanto como int"
   ]
  },
  {
   "cell_type": "code",
   "execution_count": 14,
   "metadata": {},
   "outputs": [
    {
     "data": {
      "text/plain": [
       "((3.943, 1.28), (1.566, 0.492))"
      ]
     },
     "execution_count": 14,
     "metadata": {},
     "output_type": "execute_result"
    }
   ],
   "source": [
    "train, test = load_train_test('train.csv', 'test.csv')\n",
    "discard_features(train, test)\n",
    "impute_grades_with_0(train, test)\n",
    "discretize_nu_idade(train, test)\n",
    "map_cod_prova_to_numeric(train, test)\n",
    "correct_dtypes(train, test)"
   ]
  },
  {
   "cell_type": "code",
   "execution_count": 15,
   "metadata": {},
   "outputs": [],
   "source": [
    "import matplotlib.pyplot as plt\n",
    "import seaborn as sns"
   ]
  },
  {
   "cell_type": "code",
   "execution_count": 16,
   "metadata": {},
   "outputs": [
    {
     "ename": "ModuleNotFoundError",
     "evalue": "No module named 'AnovaTest'",
     "output_type": "error",
     "traceback": [
      "\u001b[1;31m---------------------------------------------------------------------------\u001b[0m",
      "\u001b[1;31mModuleNotFoundError\u001b[0m                       Traceback (most recent call last)",
      "\u001b[1;32m<ipython-input-16-062a7120d41f>\u001b[0m in \u001b[0;36m<module>\u001b[1;34m\u001b[0m\n\u001b[1;32m----> 1\u001b[1;33m \u001b[0mtrain_columns\u001b[0m \u001b[1;33m=\u001b[0m \u001b[0manova_selection\u001b[0m\u001b[1;33m(\u001b[0m\u001b[0mtrain\u001b[0m\u001b[1;33m)\u001b[0m\u001b[1;33m\u001b[0m\u001b[1;33m\u001b[0m\u001b[0m\n\u001b[0m\u001b[0;32m      2\u001b[0m \u001b[0mtest_columns\u001b[0m \u001b[1;33m=\u001b[0m \u001b[0mtrain_columns\u001b[0m\u001b[1;33m.\u001b[0m\u001b[0mcopy\u001b[0m\u001b[1;33m(\u001b[0m\u001b[1;33m)\u001b[0m\u001b[1;33m.\u001b[0m\u001b[0mtolist\u001b[0m\u001b[1;33m(\u001b[0m\u001b[1;33m)\u001b[0m\u001b[1;33m\u001b[0m\u001b[1;33m\u001b[0m\u001b[0m\n\u001b[0;32m      3\u001b[0m \u001b[0mtest_columns\u001b[0m\u001b[1;33m.\u001b[0m\u001b[0mremove\u001b[0m\u001b[1;33m(\u001b[0m\u001b[1;34m'NU_NOTA_MT'\u001b[0m\u001b[1;33m)\u001b[0m\u001b[1;33m\u001b[0m\u001b[1;33m\u001b[0m\u001b[0m\n\u001b[0;32m      4\u001b[0m \u001b[0mcategoricals_columns\u001b[0m \u001b[1;33m=\u001b[0m \u001b[0mtrain\u001b[0m\u001b[1;33m[\u001b[0m\u001b[0mtrain_columns\u001b[0m\u001b[1;33m]\u001b[0m\u001b[1;33m.\u001b[0m\u001b[0mselect_dtypes\u001b[0m\u001b[1;33m(\u001b[0m\u001b[0minclude\u001b[0m\u001b[1;33m=\u001b[0m\u001b[1;34m'category'\u001b[0m\u001b[1;33m)\u001b[0m\u001b[1;33m.\u001b[0m\u001b[0mcolumns\u001b[0m\u001b[1;33m\u001b[0m\u001b[1;33m\u001b[0m\u001b[0m\n",
      "\u001b[1;32m<ipython-input-13-477098e0499e>\u001b[0m in \u001b[0;36manova_selection\u001b[1;34m(train)\u001b[0m\n\u001b[0;32m     79\u001b[0m \u001b[1;33m\u001b[0m\u001b[0m\n\u001b[0;32m     80\u001b[0m \u001b[1;32mdef\u001b[0m \u001b[0manova_selection\u001b[0m\u001b[1;33m(\u001b[0m\u001b[0mtrain\u001b[0m\u001b[1;33m)\u001b[0m\u001b[1;33m:\u001b[0m\u001b[1;33m\u001b[0m\u001b[1;33m\u001b[0m\u001b[0m\n\u001b[1;32m---> 81\u001b[1;33m     \u001b[1;32mfrom\u001b[0m \u001b[0mAnovaTest\u001b[0m \u001b[1;32mimport\u001b[0m \u001b[0mAnovaTest\u001b[0m \u001b[1;32mas\u001b[0m \u001b[0mtt\u001b[0m\u001b[1;33m\u001b[0m\u001b[1;33m\u001b[0m\u001b[0m\n\u001b[0m\u001b[0;32m     82\u001b[0m     \u001b[0manova_test\u001b[0m \u001b[1;33m=\u001b[0m \u001b[0mtt\u001b[0m\u001b[1;33m(\u001b[0m\u001b[0mtrain\u001b[0m\u001b[1;33m,\u001b[0m \u001b[0mtrain\u001b[0m\u001b[1;33m.\u001b[0m\u001b[0mcolumns\u001b[0m\u001b[1;33m)\u001b[0m\u001b[1;33m.\u001b[0m\u001b[0mrun\u001b[0m\u001b[1;33m(\u001b[0m\u001b[1;33m)\u001b[0m\u001b[1;33m\u001b[0m\u001b[1;33m\u001b[0m\u001b[0m\n\u001b[0;32m     83\u001b[0m     anova_test = pd.DataFrame(\n",
      "\u001b[1;31mModuleNotFoundError\u001b[0m: No module named 'AnovaTest'"
     ]
    }
   ],
   "source": [
    "train_columns = anova_selection(train)\n",
    "test_columns = train_columns.copy().tolist()\n",
    "test_columns.remove('NU_NOTA_MT')\n",
    "categoricals_columns = train[train_columns].select_dtypes(include='category').columns"
   ]
  },
  {
   "cell_type": "code",
   "execution_count": null,
   "metadata": {},
   "outputs": [],
   "source": [
    "print(f'Features selecionadas pelo teste ANOVA: \\n{train_columns}')"
   ]
  },
  {
   "cell_type": "markdown",
   "metadata": {},
   "source": [
    "## Preparando dados para modelo"
   ]
  },
  {
   "cell_type": "code",
   "execution_count": null,
   "metadata": {},
   "outputs": [],
   "source": [
    "from sklearn.linear_model import LinearRegression\n",
    "from sklearn.metrics import mean_squared_error, r2_score\n",
    "from sklearn.model_selection import cross_val_score, train_test_split"
   ]
  },
  {
   "cell_type": "code",
   "execution_count": null,
   "metadata": {},
   "outputs": [],
   "source": [
    "data_to_model = train.loc[:, train_columns].copy()\n",
    "data_to_test = test.loc[:, test_columns].copy()"
   ]
  },
  {
   "cell_type": "code",
   "execution_count": null,
   "metadata": {},
   "outputs": [],
   "source": [
    "data_to_model = pd.concat([data_to_model, pd.get_dummies(data_to_model[categoricals_columns], drop_first=True)], axis=1)\n",
    "data_to_model.drop(categoricals_columns, axis=1, inplace=True)\n",
    "\n",
    "data_to_test = pd.concat([data_to_test, pd.get_dummies(data_to_test[categoricals_columns], drop_first=True)], axis=1)\n",
    "data_to_test.drop(categoricals_columns, axis=1, inplace=True)"
   ]
  },
  {
   "cell_type": "markdown",
   "metadata": {},
   "source": [
    "## Modelo"
   ]
  },
  {
   "cell_type": "code",
   "execution_count": null,
   "metadata": {},
   "outputs": [],
   "source": [
    "X = data_to_model.drop('NU_NOTA_MT', axis=1)\n",
    "y = data_to_model.loc[:, 'NU_NOTA_MT'].copy()"
   ]
  },
  {
   "cell_type": "code",
   "execution_count": null,
   "metadata": {
    "scrolled": false
   },
   "outputs": [],
   "source": [
    "X.columns.size"
   ]
  },
  {
   "cell_type": "code",
   "execution_count": null,
   "metadata": {},
   "outputs": [],
   "source": [
    "from sklearn.feature_selection import SelectKBest, f_regression\n",
    "kbest = SelectKBest(f_regression, k=20)\n",
    "kbest.fit(X.iloc[:,1:], y)\n",
    "kbest_features = X.columns.values[1:][kbest.get_support()]\n",
    "kbest_features"
   ]
  },
  {
   "cell_type": "code",
   "execution_count": null,
   "metadata": {},
   "outputs": [],
   "source": [
    "X = pd.concat([X.iloc[:,0], X.loc[:, kbest_features]], axis=1)\n",
    "X.shape"
   ]
  },
  {
   "cell_type": "code",
   "execution_count": null,
   "metadata": {},
   "outputs": [],
   "source": [
    "x_train, x_test, y_train, y_test = train_test_split(X.iloc[:, 1:], y, test_size=0.25, random_state=42)"
   ]
  },
  {
   "cell_type": "code",
   "execution_count": null,
   "metadata": {},
   "outputs": [],
   "source": [
    "lm_insample = LinearRegression()\n",
    "lm_insample.fit(x_train, y_train)\n",
    "yhat_insample = lm_insample.predict(x_train)"
   ]
  },
  {
   "cell_type": "code",
   "execution_count": null,
   "metadata": {},
   "outputs": [],
   "source": [
    "r_squared = r2_score(y_train, yhat_insample)\n",
    "mse = mean_squared_error(y_train, yhat_insample)\n",
    "\n",
    "print('R2-score: ', r_squared)\n",
    "print('MSE of G3 and predicted value is: ', mse)\n",
    "\n",
    "print('*' * 10)\n",
    "print(\"Mean absolute error: %.2f\" % np.mean(np.absolute(y_train - yhat_insample)))\n",
    "print(\"Residual sum of squares (MSE): %.3f\" % np.mean((y_train - yhat_insample) ** 2))"
   ]
  },
  {
   "cell_type": "code",
   "execution_count": null,
   "metadata": {},
   "outputs": [],
   "source": [
    "lm_outsample = LinearRegression()\n",
    "lm_outsample.fit(x_train, y_train)\n",
    "yhat_outsample = lm_outsample.predict(x_test)"
   ]
  },
  {
   "cell_type": "code",
   "execution_count": null,
   "metadata": {
    "scrolled": true
   },
   "outputs": [],
   "source": [
    "r_squared = r2_score(y_test, yhat_outsample)\n",
    "mse = mean_squared_error(y_test, yhat_outsample)\n",
    "\n",
    "print('R2-score: ', r_squared)\n",
    "print('MSE of G3 and predicted value is: ', mse)\n",
    "\n",
    "print('*' * 10)\n",
    "print(\"Mean absolute error: %.2f\" % np.mean(np.absolute(y_test - yhat_outsample)))\n",
    "print(\"Residual sum of squares (MSE): %.3f\" % np.mean((y_test - yhat_outsample) ** 2))"
   ]
  },
  {
   "cell_type": "code",
   "execution_count": null,
   "metadata": {},
   "outputs": [],
   "source": [
    "scores = cross_val_score(lm_outsample, X.iloc[:, 1:], y, cv=4)"
   ]
  },
  {
   "cell_type": "code",
   "execution_count": null,
   "metadata": {},
   "outputs": [],
   "source": [
    "print('scores: {}\\nscores mean: {}'.format(scores, scores.mean()))"
   ]
  },
  {
   "cell_type": "markdown",
   "metadata": {},
   "source": [
    "## Visualizando o Modelo"
   ]
  },
  {
   "cell_type": "code",
   "execution_count": null,
   "metadata": {},
   "outputs": [],
   "source": [
    "X_test = pd.concat([data_to_test.iloc[:, 0], data_to_test.loc[:, kbest_features]], axis=1)"
   ]
  },
  {
   "cell_type": "code",
   "execution_count": null,
   "metadata": {},
   "outputs": [],
   "source": [
    "X_test['NU_NOTA_MT'] = lm_outsample.predict(X_test.iloc[:, 1:])"
   ]
  },
  {
   "cell_type": "code",
   "execution_count": null,
   "metadata": {},
   "outputs": [],
   "source": [
    "answer = X_test.loc[:, ['NU_INSCRICAO', 'NU_NOTA_MT']].copy()\n",
    "answer.to_csv('answer.csv', index=False)"
   ]
  }
 ],
 "metadata": {
  "kernelspec": {
   "display_name": "Python 3",
   "language": "python",
   "name": "python3"
  },
  "language_info": {
   "codemirror_mode": {
    "name": "ipython",
    "version": 3
   },
   "file_extension": ".py",
   "mimetype": "text/x-python",
   "name": "python",
   "nbconvert_exporter": "python",
   "pygments_lexer": "ipython3",
   "version": "3.8.3"
  }
 },
 "nbformat": 4,
 "nbformat_minor": 2
}
